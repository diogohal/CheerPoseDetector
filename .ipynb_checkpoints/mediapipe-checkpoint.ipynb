{
 "cells": [
  {
   "cell_type": "markdown",
   "id": "9b4978fc-3893-478b-9789-36466ebf69b0",
   "metadata": {},
   "source": [
    "# CheerPose"
   ]
  },
  {
   "cell_type": "markdown",
   "id": "6489d21c-8653-4061-ac80-0ab4293021c9",
   "metadata": {},
   "source": [
    "The main goal of this project is to create a workflow capable to detect cheerleading body positions. For now, we are going to try classify only two poses: Liberty and Scale.\n",
    "\n",
    "For this project, it's going to be used the Mediapipe pose estimation and classic machine learning algorithms to achive our goal. The mediapipe model will return data about the body joints of each image, which will be used to calculate the angles between three of these points. Later, the data generated will be used in the ML training model."
   ]
  },
  {
   "cell_type": "code",
   "execution_count": 158,
   "id": "d27e9ae6-d219-40bf-ad90-c4f91416e72b",
   "metadata": {
    "tags": []
   },
   "outputs": [],
   "source": [
    "import cv2 as cv\n",
    "import mediapipe as mp\n",
    "import pandas as pd\n",
    "import numpy as np\n",
    "from PIL import Image\n",
    "import os\n",
    "from matplotlib import pyplot as plt\n",
    "mp_pose = mp.solutions.pose\n",
    "mp_draw = mp.solutions.drawing_utils"
   ]
  },
  {
   "cell_type": "markdown",
   "id": "ff9728eb-1d17-4720-ab59-57fd773af132",
   "metadata": {},
   "source": [
    "## 1. Creating DataFrame"
   ]
  },
  {
   "cell_type": "markdown",
   "id": "f860a6c7-0e02-4367-b6aa-44c4196a48ce",
   "metadata": {},
   "source": [
    "The first step is to create a pandas DataFrame where all of our images informations are going to. The columns will have angle values calculated by the positions of three body joints."
   ]
  },
  {
   "cell_type": "code",
   "execution_count": 90,
   "id": "921c287c-500c-45b5-b111-225eaa969fcd",
   "metadata": {
    "tags": []
   },
   "outputs": [
    {
     "data": {
      "text/html": [
       "<div>\n",
       "<style scoped>\n",
       "    .dataframe tbody tr th:only-of-type {\n",
       "        vertical-align: middle;\n",
       "    }\n",
       "\n",
       "    .dataframe tbody tr th {\n",
       "        vertical-align: top;\n",
       "    }\n",
       "\n",
       "    .dataframe thead th {\n",
       "        text-align: right;\n",
       "    }\n",
       "</style>\n",
       "<table border=\"1\" class=\"dataframe\">\n",
       "  <thead>\n",
       "    <tr style=\"text-align: right;\">\n",
       "      <th></th>\n",
       "      <th>body_pose</th>\n",
       "      <th>r_knee_angle</th>\n",
       "      <th>r_hip_angle</th>\n",
       "      <th>r_shoulder_angle</th>\n",
       "      <th>r_elbow_angle</th>\n",
       "      <th>r_leg_open</th>\n",
       "      <th>l_knee_angle</th>\n",
       "      <th>l_hip_angle</th>\n",
       "      <th>l_shoulder_angle</th>\n",
       "      <th>l_elbow_angle</th>\n",
       "      <th>l_leg_open</th>\n",
       "    </tr>\n",
       "  </thead>\n",
       "  <tbody>\n",
       "  </tbody>\n",
       "</table>\n",
       "</div>"
      ],
      "text/plain": [
       "Empty DataFrame\n",
       "Columns: [body_pose, r_knee_angle, r_hip_angle, r_shoulder_angle, r_elbow_angle, r_leg_open, l_knee_angle, l_hip_angle, l_shoulder_angle, l_elbow_angle, l_leg_open]\n",
       "Index: []"
      ]
     },
     "execution_count": 90,
     "metadata": {},
     "output_type": "execute_result"
    }
   ],
   "source": [
    "columns = ['body_pose', 'r_knee_angle', 'r_hip_angle', 'r_shoulder_angle', 'r_elbow_angle', 'r_leg_open', 'l_knee_angle', 'l_hip_angle', 'l_shoulder_angle', 'l_elbow_angle', 'l_leg_open']\n",
    "df = pd.DataFrame(columns=columns)\n",
    "df"
   ]
  },
  {
   "cell_type": "markdown",
   "id": "614a49e2-04b8-4842-9059-589908715a59",
   "metadata": {},
   "source": [
    "## 2. Getting data informations"
   ]
  },
  {
   "cell_type": "markdown",
   "id": "d7ab21a3-d694-41d9-9a52-8baff694799f",
   "metadata": {},
   "source": [
    "This function is used to calculate the angle between three joints"
   ]
  },
  {
   "cell_type": "code",
   "execution_count": 149,
   "id": "7edc4994-1de8-44f6-a949-5fd80f6f6d1f",
   "metadata": {
    "jupyter": {
     "source_hidden": true
    },
    "tags": []
   },
   "outputs": [],
   "source": [
    "def calculateAngle(a,b,c):\n",
    "    a = np.array(a)\n",
    "    b = np.array(b)\n",
    "    c = np.array(c)\n",
    "\n",
    "    radians = np.arctan2(c[1]-b[1], c[0]-b[0]) - np.arctan2(a[1]-b[1], a[0]-b[0])\n",
    "    angle = np.abs(radians*180/np.pi)\n",
    "\n",
    "    if angle > 180:\n",
    "        angle = 360 - angle\n",
    "    return angle"
   ]
  },
  {
   "cell_type": "markdown",
   "id": "8cb02fba-7228-4454-a66c-a620de279b0d",
   "metadata": {},
   "source": [
    "This function is used to calculate the landmarks angles of features of interest"
   ]
  },
  {
   "cell_type": "code",
   "execution_count": 150,
   "id": "e788ebda-bfa3-4593-9901-725a0e440f78",
   "metadata": {
    "jupyter": {
     "source_hidden": true
    },
    "tags": []
   },
   "outputs": [],
   "source": [
    "def calculateLandmarksAngles(landmarks):\n",
    "    # Get right body features\n",
    "    r_ankle = [landmarks[mp_pose.PoseLandmark.RIGHT_ANKLE].x, landmarks[mp_pose.PoseLandmark.RIGHT_ANKLE].y] \n",
    "    r_knee = [landmarks[mp_pose.PoseLandmark.RIGHT_KNEE].x, landmarks[mp_pose.PoseLandmark.RIGHT_KNEE].y] \n",
    "    r_hip = [landmarks[mp_pose.PoseLandmark.RIGHT_HIP].x, landmarks[mp_pose.PoseLandmark.RIGHT_HIP].y] \n",
    "    r_shoulder = [landmarks[mp_pose.PoseLandmark.RIGHT_SHOULDER].x, landmarks[mp_pose.PoseLandmark.RIGHT_SHOULDER].y] \n",
    "    r_elbow = [landmarks[mp_pose.PoseLandmark.RIGHT_ELBOW].x, landmarks[mp_pose.PoseLandmark.RIGHT_ELBOW].y] \n",
    "    r_wrist = [landmarks[mp_pose.PoseLandmark.RIGHT_WRIST].x, landmarks[mp_pose.PoseLandmark.RIGHT_WRIST].y] \n",
    "\n",
    "    # Get left body features\n",
    "    l_ankle = [landmarks[mp_pose.PoseLandmark.LEFT_ANKLE].x, landmarks[mp_pose.PoseLandmark.LEFT_ANKLE].y]\n",
    "    l_knee = [landmarks[mp_pose.PoseLandmark.LEFT_KNEE].x, landmarks[mp_pose.PoseLandmark.LEFT_KNEE].y]\n",
    "    l_hip = [landmarks[mp_pose.PoseLandmark.LEFT_HIP].x, landmarks[mp_pose.PoseLandmark.LEFT_HIP].y]\n",
    "    l_shoulder = [landmarks[mp_pose.PoseLandmark.LEFT_SHOULDER].x, landmarks[mp_pose.PoseLandmark.LEFT_SHOULDER].y]\n",
    "    l_elbow = [landmarks[mp_pose.PoseLandmark.LEFT_ELBOW].x, landmarks[mp_pose.PoseLandmark.LEFT_ELBOW].y]\n",
    "    l_wrist = [landmarks[mp_pose.PoseLandmark.LEFT_WRIST].x, landmarks[mp_pose.PoseLandmark.LEFT_WRIST].y]\n",
    "\n",
    "    # Get right body angles\n",
    "    r_knee_angle = calculateAngle(r_ankle, r_knee, r_hip)\n",
    "    r_hip_angle = calculateAngle(r_knee, r_hip, r_shoulder)\n",
    "    r_shoulder_angle = calculateAngle(r_hip, r_shoulder, r_elbow)\n",
    "    r_elbow_angle = calculateAngle(r_shoulder, r_elbow, r_wrist)\n",
    "    r_leg_open = calculateAngle(r_knee, r_hip, l_hip)\n",
    "\n",
    "    # Get left body angles\n",
    "    l_knee_angle = calculateAngle(l_ankle, l_knee, l_hip)\n",
    "    l_hip_angle = calculateAngle(l_knee, l_hip, l_shoulder)\n",
    "    l_shoulder_angle = calculateAngle(l_hip, l_shoulder, l_elbow)\n",
    "    l_elbow_angle = calculateAngle(l_shoulder, l_elbow, l_wrist)\n",
    "    l_leg_open = calculateAngle(l_knee, l_hip, r_hip)\n",
    "\n",
    "    data = [body_pose, r_knee_angle, r_hip_angle, r_shoulder_angle, r_elbow_angle, r_leg_open, l_knee_angle, l_hip_angle, l_shoulder_angle, l_elbow_angle, l_leg_open]\n",
    "    return data"
   ]
  },
  {
   "cell_type": "markdown",
   "id": "4a29d9f0-c210-45a3-899e-500901cf244e",
   "metadata": {
    "tags": []
   },
   "source": [
    "Use Mediapipe pre-trained model to find body pose informations"
   ]
  },
  {
   "cell_type": "code",
   "execution_count": 152,
   "id": "313d30f2-8f57-4120-a4f7-daeca9d685aa",
   "metadata": {
    "collapsed": true,
    "jupyter": {
     "outputs_hidden": true
    },
    "tags": []
   },
   "outputs": [
    {
     "name": "stderr",
     "output_type": "stream",
     "text": [
      "libEGL warning: MESA-LOADER: failed to open radeonsi: /usr/lib/dri/radeonsi_dri.so: cannot open shared object file: No such file or directory (search paths /usr/lib/x86_64-linux-gnu/dri:\\$${ORIGIN}/dri:/usr/lib/dri, suffix _dri)\n",
      "\n",
      "libEGL warning: MESA-LOADER: failed to open radeonsi: /usr/lib/dri/radeonsi_dri.so: cannot open shared object file: No such file or directory (search paths /usr/lib/x86_64-linux-gnu/dri:\\$${ORIGIN}/dri:/usr/lib/dri, suffix _dri)\n",
      "\n",
      "libEGL warning: MESA-LOADER: failed to open swrast: /usr/lib/dri/swrast_dri.so: cannot open shared object file: No such file or directory (search paths /usr/lib/x86_64-linux-gnu/dri:\\$${ORIGIN}/dri:/usr/lib/dri, suffix _dri)\n",
      "\n",
      "libEGL warning: MESA-LOADER: failed to open radeonsi: /usr/lib/dri/radeonsi_dri.so: cannot open shared object file: No such file or directory (search paths /usr/lib/x86_64-linux-gnu/dri:\\$${ORIGIN}/dri:/usr/lib/dri, suffix _dri)\n",
      "\n",
      "libEGL warning: MESA-LOADER: failed to open radeonsi: /usr/lib/dri/radeonsi_dri.so: cannot open shared object file: No such file or directory (search paths /usr/lib/x86_64-linux-gnu/dri:\\$${ORIGIN}/dri:/usr/lib/dri, suffix _dri)\n",
      "\n",
      "libEGL warning: MESA-LOADER: failed to open swrast: /usr/lib/dri/swrast_dri.so: cannot open shared object file: No such file or directory (search paths /usr/lib/x86_64-linux-gnu/dri:\\$${ORIGIN}/dri:/usr/lib/dri, suffix _dri)\n",
      "\n",
      "libEGL warning: MESA-LOADER: failed to open radeonsi: /usr/lib/dri/radeonsi_dri.so: cannot open shared object file: No such file or directory (search paths /usr/lib/x86_64-linux-gnu/dri:\\$${ORIGIN}/dri:/usr/lib/dri, suffix _dri)\n",
      "\n",
      "libEGL warning: MESA-LOADER: failed to open radeonsi: /usr/lib/dri/radeonsi_dri.so: cannot open shared object file: No such file or directory (search paths /usr/lib/x86_64-linux-gnu/dri:\\$${ORIGIN}/dri:/usr/lib/dri, suffix _dri)\n",
      "\n",
      "libEGL warning: MESA-LOADER: failed to open swrast: /usr/lib/dri/swrast_dri.so: cannot open shared object file: No such file or directory (search paths /usr/lib/x86_64-linux-gnu/dri:\\$${ORIGIN}/dri:/usr/lib/dri, suffix _dri)\n",
      "\n",
      "libEGL warning: MESA-LOADER: failed to open radeonsi: /usr/lib/dri/radeonsi_dri.so: cannot open shared object file: No such file or directory (search paths /usr/lib/x86_64-linux-gnu/dri:\\$${ORIGIN}/dri:/usr/lib/dri, suffix _dri)\n",
      "\n",
      "libEGL warning: MESA-LOADER: failed to open radeonsi: /usr/lib/dri/radeonsi_dri.so: cannot open shared object file: No such file or directory (search paths /usr/lib/x86_64-linux-gnu/dri:\\$${ORIGIN}/dri:/usr/lib/dri, suffix _dri)\n",
      "\n",
      "libEGL warning: MESA-LOADER: failed to open swrast: /usr/lib/dri/swrast_dri.so: cannot open shared object file: No such file or directory (search paths /usr/lib/x86_64-linux-gnu/dri:\\$${ORIGIN}/dri:/usr/lib/dri, suffix _dri)\n",
      "\n",
      "libEGL warning: MESA-LOADER: failed to open radeonsi: /usr/lib/dri/radeonsi_dri.so: cannot open shared object file: No such file or directory (search paths /usr/lib/x86_64-linux-gnu/dri:\\$${ORIGIN}/dri:/usr/lib/dri, suffix _dri)\n",
      "\n",
      "libEGL warning: MESA-LOADER: failed to open radeonsi: /usr/lib/dri/radeonsi_dri.so: cannot open shared object file: No such file or directory (search paths /usr/lib/x86_64-linux-gnu/dri:\\$${ORIGIN}/dri:/usr/lib/dri, suffix _dri)\n",
      "\n",
      "libEGL warning: MESA-LOADER: failed to open swrast: /usr/lib/dri/swrast_dri.so: cannot open shared object file: No such file or directory (search paths /usr/lib/x86_64-linux-gnu/dri:\\$${ORIGIN}/dri:/usr/lib/dri, suffix _dri)\n",
      "\n",
      "libEGL warning: MESA-LOADER: failed to open radeonsi: /usr/lib/dri/radeonsi_dri.so: cannot open shared object file: No such file or directory (search paths /usr/lib/x86_64-linux-gnu/dri:\\$${ORIGIN}/dri:/usr/lib/dri, suffix _dri)\n",
      "\n",
      "libEGL warning: MESA-LOADER: failed to open radeonsi: /usr/lib/dri/radeonsi_dri.so: cannot open shared object file: No such file or directory (search paths /usr/lib/x86_64-linux-gnu/dri:\\$${ORIGIN}/dri:/usr/lib/dri, suffix _dri)\n",
      "\n",
      "libEGL warning: MESA-LOADER: failed to open swrast: /usr/lib/dri/swrast_dri.so: cannot open shared object file: No such file or directory (search paths /usr/lib/x86_64-linux-gnu/dri:\\$${ORIGIN}/dri:/usr/lib/dri, suffix _dri)\n",
      "\n"
     ]
    }
   ],
   "source": [
    "body_pose = 'lib'\n",
    "images_folder = './images/liberty/'\n",
    "with mp_pose.Pose(min_detection_confidence=0.5, min_tracking_confidence=0.5) as pose:\n",
    "    for file in os.listdir(images_folder):\n",
    "        root, extension = os.path.splitext(file)\n",
    "        if(extension != '.jpg'):\n",
    "            continue\n",
    "        image_path = os.path.join(images_folder, file)\n",
    "        # Read image\n",
    "        image = cv.imread(image_path)\n",
    "        \n",
    "        # Convert color to pose detection\n",
    "        image = cv.cvtColor(image, cv.COLOR_BGR2RGB)\n",
    "        image.flags.writeable = False\n",
    "\n",
    "        # Pose detection\n",
    "        results = pose.process(image)\n",
    "\n",
    "        # Convert color to BGR\n",
    "        image = cv.cvtColor(image, cv.COLOR_RGB2BGR)\n",
    "        image.flags.writeable = True\n",
    "        \n",
    "        try:\n",
    "            landmarks = results.pose_landmarks.landmark\n",
    "        except: \n",
    "            continue\n",
    "        \n",
    "        data = calculateLandmarksAngles(landmarks)\n",
    "        df = pd.concat([df, pd.DataFrame([data], columns=columns)])"
   ]
  },
  {
   "cell_type": "code",
   "execution_count": 192,
   "id": "7757f880-1241-4079-abf8-d993f6061b3d",
   "metadata": {
    "tags": []
   },
   "outputs": [
    {
     "data": {
      "text/html": [
       "<div>\n",
       "<style scoped>\n",
       "    .dataframe tbody tr th:only-of-type {\n",
       "        vertical-align: middle;\n",
       "    }\n",
       "\n",
       "    .dataframe tbody tr th {\n",
       "        vertical-align: top;\n",
       "    }\n",
       "\n",
       "    .dataframe thead th {\n",
       "        text-align: right;\n",
       "    }\n",
       "</style>\n",
       "<table border=\"1\" class=\"dataframe\">\n",
       "  <thead>\n",
       "    <tr style=\"text-align: right;\">\n",
       "      <th></th>\n",
       "      <th>r_knee_angle</th>\n",
       "      <th>r_hip_angle</th>\n",
       "      <th>r_shoulder_angle</th>\n",
       "      <th>r_elbow_angle</th>\n",
       "      <th>r_leg_open</th>\n",
       "      <th>l_knee_angle</th>\n",
       "      <th>l_hip_angle</th>\n",
       "      <th>l_shoulder_angle</th>\n",
       "      <th>l_elbow_angle</th>\n",
       "      <th>l_leg_open</th>\n",
       "      <th>body_pose_le</th>\n",
       "    </tr>\n",
       "    <tr>\n",
       "      <th>body_pose</th>\n",
       "      <th></th>\n",
       "      <th></th>\n",
       "      <th></th>\n",
       "      <th></th>\n",
       "      <th></th>\n",
       "      <th></th>\n",
       "      <th></th>\n",
       "      <th></th>\n",
       "      <th></th>\n",
       "      <th></th>\n",
       "      <th></th>\n",
       "    </tr>\n",
       "  </thead>\n",
       "  <tbody>\n",
       "    <tr>\n",
       "      <th>lib</th>\n",
       "      <td>151.013272</td>\n",
       "      <td>156.227929</td>\n",
       "      <td>128.409101</td>\n",
       "      <td>160.475443</td>\n",
       "      <td>89.735152</td>\n",
       "      <td>105.988158</td>\n",
       "      <td>117.756725</td>\n",
       "      <td>123.380239</td>\n",
       "      <td>160.255520</td>\n",
       "      <td>72.980662</td>\n",
       "      <td>0.0</td>\n",
       "    </tr>\n",
       "    <tr>\n",
       "      <th>scale</th>\n",
       "      <td>146.992766</td>\n",
       "      <td>124.270564</td>\n",
       "      <td>155.503486</td>\n",
       "      <td>152.867933</td>\n",
       "      <td>121.881458</td>\n",
       "      <td>144.239912</td>\n",
       "      <td>77.153086</td>\n",
       "      <td>72.382847</td>\n",
       "      <td>149.131811</td>\n",
       "      <td>139.029954</td>\n",
       "      <td>1.0</td>\n",
       "    </tr>\n",
       "  </tbody>\n",
       "</table>\n",
       "</div>"
      ],
      "text/plain": [
       "           r_knee_angle  r_hip_angle  r_shoulder_angle  r_elbow_angle  \\\n",
       "body_pose                                                               \n",
       "lib          151.013272   156.227929        128.409101     160.475443   \n",
       "scale        146.992766   124.270564        155.503486     152.867933   \n",
       "\n",
       "           r_leg_open  l_knee_angle  l_hip_angle  l_shoulder_angle  \\\n",
       "body_pose                                                            \n",
       "lib         89.735152    105.988158   117.756725        123.380239   \n",
       "scale      121.881458    144.239912    77.153086         72.382847   \n",
       "\n",
       "           l_elbow_angle  l_leg_open  body_pose_le  \n",
       "body_pose                                           \n",
       "lib           160.255520   72.980662           0.0  \n",
       "scale         149.131811  139.029954           1.0  "
      ]
     },
     "execution_count": 192,
     "metadata": {},
     "output_type": "execute_result"
    }
   ],
   "source": [
    "df.groupby('body_pose').mean()"
   ]
  },
  {
   "cell_type": "code",
   "execution_count": 217,
   "id": "b9bb19f6-3f01-4811-b0d1-22ba1067d8c6",
   "metadata": {
    "tags": []
   },
   "outputs": [
    {
     "data": {
      "text/html": [
       "<div>\n",
       "<style scoped>\n",
       "    .dataframe tbody tr th:only-of-type {\n",
       "        vertical-align: middle;\n",
       "    }\n",
       "\n",
       "    .dataframe tbody tr th {\n",
       "        vertical-align: top;\n",
       "    }\n",
       "\n",
       "    .dataframe thead th {\n",
       "        text-align: right;\n",
       "    }\n",
       "</style>\n",
       "<table border=\"1\" class=\"dataframe\">\n",
       "  <thead>\n",
       "    <tr style=\"text-align: right;\">\n",
       "      <th></th>\n",
       "      <th>body_pose</th>\n",
       "      <th>r_knee_angle</th>\n",
       "      <th>r_hip_angle</th>\n",
       "      <th>r_shoulder_angle</th>\n",
       "      <th>r_elbow_angle</th>\n",
       "      <th>r_leg_open</th>\n",
       "      <th>l_knee_angle</th>\n",
       "      <th>l_hip_angle</th>\n",
       "      <th>l_shoulder_angle</th>\n",
       "      <th>l_elbow_angle</th>\n",
       "      <th>l_leg_open</th>\n",
       "      <th>body_pose_le</th>\n",
       "    </tr>\n",
       "  </thead>\n",
       "  <tbody>\n",
       "    <tr>\n",
       "      <th>0</th>\n",
       "      <td>lib</td>\n",
       "      <td>177.415767</td>\n",
       "      <td>177.733093</td>\n",
       "      <td>168.482319</td>\n",
       "      <td>178.079521</td>\n",
       "      <td>99.288708</td>\n",
       "      <td>28.596580</td>\n",
       "      <td>61.477621</td>\n",
       "      <td>115.443464</td>\n",
       "      <td>158.123681</td>\n",
       "      <td>175.993813</td>\n",
       "      <td>0.0</td>\n",
       "    </tr>\n",
       "    <tr>\n",
       "      <th>0</th>\n",
       "      <td>lib</td>\n",
       "      <td>175.647671</td>\n",
       "      <td>176.478982</td>\n",
       "      <td>14.034629</td>\n",
       "      <td>176.357561</td>\n",
       "      <td>97.158906</td>\n",
       "      <td>134.602424</td>\n",
       "      <td>144.440470</td>\n",
       "      <td>11.704010</td>\n",
       "      <td>170.127891</td>\n",
       "      <td>108.692481</td>\n",
       "      <td>0.0</td>\n",
       "    </tr>\n",
       "    <tr>\n",
       "      <th>0</th>\n",
       "      <td>lib</td>\n",
       "      <td>144.462805</td>\n",
       "      <td>149.620097</td>\n",
       "      <td>139.808174</td>\n",
       "      <td>170.524751</td>\n",
       "      <td>152.632482</td>\n",
       "      <td>47.035240</td>\n",
       "      <td>87.534381</td>\n",
       "      <td>136.905613</td>\n",
       "      <td>175.891623</td>\n",
       "      <td>94.428108</td>\n",
       "      <td>0.0</td>\n",
       "    </tr>\n",
       "    <tr>\n",
       "      <th>0</th>\n",
       "      <td>lib</td>\n",
       "      <td>175.997398</td>\n",
       "      <td>168.857462</td>\n",
       "      <td>142.637146</td>\n",
       "      <td>172.744512</td>\n",
       "      <td>102.713097</td>\n",
       "      <td>66.202522</td>\n",
       "      <td>85.761114</td>\n",
       "      <td>165.619534</td>\n",
       "      <td>156.318691</td>\n",
       "      <td>18.966324</td>\n",
       "      <td>0.0</td>\n",
       "    </tr>\n",
       "    <tr>\n",
       "      <th>0</th>\n",
       "      <td>lib</td>\n",
       "      <td>179.332551</td>\n",
       "      <td>170.928370</td>\n",
       "      <td>152.433950</td>\n",
       "      <td>173.371200</td>\n",
       "      <td>92.130136</td>\n",
       "      <td>138.165126</td>\n",
       "      <td>142.649492</td>\n",
       "      <td>116.256422</td>\n",
       "      <td>172.780313</td>\n",
       "      <td>39.067318</td>\n",
       "      <td>0.0</td>\n",
       "    </tr>\n",
       "  </tbody>\n",
       "</table>\n",
       "</div>"
      ],
      "text/plain": [
       "  body_pose  r_knee_angle  r_hip_angle  r_shoulder_angle  r_elbow_angle  \\\n",
       "0       lib    177.415767   177.733093        168.482319     178.079521   \n",
       "0       lib    175.647671   176.478982         14.034629     176.357561   \n",
       "0       lib    144.462805   149.620097        139.808174     170.524751   \n",
       "0       lib    175.997398   168.857462        142.637146     172.744512   \n",
       "0       lib    179.332551   170.928370        152.433950     173.371200   \n",
       "\n",
       "   r_leg_open  l_knee_angle  l_hip_angle  l_shoulder_angle  l_elbow_angle  \\\n",
       "0   99.288708     28.596580    61.477621        115.443464     158.123681   \n",
       "0   97.158906    134.602424   144.440470         11.704010     170.127891   \n",
       "0  152.632482     47.035240    87.534381        136.905613     175.891623   \n",
       "0  102.713097     66.202522    85.761114        165.619534     156.318691   \n",
       "0   92.130136    138.165126   142.649492        116.256422     172.780313   \n",
       "\n",
       "   l_leg_open  body_pose_le  \n",
       "0  175.993813           0.0  \n",
       "0  108.692481           0.0  \n",
       "0   94.428108           0.0  \n",
       "0   18.966324           0.0  \n",
       "0   39.067318           0.0  "
      ]
     },
     "execution_count": 217,
     "metadata": {},
     "output_type": "execute_result"
    }
   ],
   "source": [
    "df.head()"
   ]
  },
  {
   "cell_type": "markdown",
   "id": "c568bb21-5c76-496f-b4eb-828369583115",
   "metadata": {},
   "source": [
    "## Training model"
   ]
  },
  {
   "cell_type": "markdown",
   "id": "3c8c3da9-306f-4a7e-bb35-4199f2aba129",
   "metadata": {},
   "source": [
    "First it's necessary to pre-process the data. For this, we need to transform the **body_pose** valeus into integer, so a LabelEncoder is used."
   ]
  },
  {
   "cell_type": "code",
   "execution_count": 120,
   "id": "941907a5-016e-4bf1-8b03-b804a332787f",
   "metadata": {
    "tags": []
   },
   "outputs": [],
   "source": [
    "from sklearn.preprocessing import LabelEncoder\n",
    "body_pose_le = LabelEncoder()\n",
    "df['body_pose_le'] = body_pose_le.fit_transform(df.body_pose)\n",
    "df_final = df.drop(['body_pose'], axis='columns')"
   ]
  },
  {
   "cell_type": "markdown",
   "id": "2e75abab-c710-4318-8af9-94f8b3bbc1e8",
   "metadata": {},
   "source": [
    "Split the dataset into train and test DataFrames."
   ]
  },
  {
   "cell_type": "code",
   "execution_count": 180,
   "id": "dbe711dd-c102-48d0-bd27-3cb33141cf72",
   "metadata": {
    "tags": []
   },
   "outputs": [],
   "source": [
    "from sklearn.model_selection import train_test_split\n",
    "x = df_final.iloc[:,1:]\n",
    "y = df_final['body_pose_le']\n",
    "x_train, x_test, y_train, y_test = train_test_split(x, y, test_size=0.2)"
   ]
  },
  {
   "cell_type": "markdown",
   "id": "8dd37fd1-9b87-4c8b-a73e-d52fe771a41f",
   "metadata": {},
   "source": [
    "Train a SVC model."
   ]
  },
  {
   "cell_type": "code",
   "execution_count": 181,
   "id": "96b150ba-fb4f-4d54-8c19-ca5fb09b896e",
   "metadata": {
    "tags": []
   },
   "outputs": [
    {
     "data": {
      "text/plain": [
       "1.0"
      ]
     },
     "execution_count": 181,
     "metadata": {},
     "output_type": "execute_result"
    }
   ],
   "source": [
    "from sklearn.svm import SVC\n",
    "model = SVC()\n",
    "model.fit(x_train, y_train)\n",
    "model.score(x_test,y_test)"
   ]
  }
 ],
 "metadata": {
  "kernelspec": {
   "display_name": "Python 3 (ipykernel)",
   "language": "python",
   "name": "python3"
  },
  "language_info": {
   "codemirror_mode": {
    "name": "ipython",
    "version": 3
   },
   "file_extension": ".py",
   "mimetype": "text/x-python",
   "name": "python",
   "nbconvert_exporter": "python",
   "pygments_lexer": "ipython3",
   "version": "3.11.4"
  }
 },
 "nbformat": 4,
 "nbformat_minor": 5
}
